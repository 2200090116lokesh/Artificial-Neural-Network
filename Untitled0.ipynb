{
  "nbformat": 4,
  "nbformat_minor": 0,
  "metadata": {
    "colab": {
      "provenance": [],
      "authorship_tag": "ABX9TyODrx678M8BNLk9tUmJgk8T",
      "include_colab_link": true
    },
    "kernelspec": {
      "name": "python3",
      "display_name": "Python 3"
    },
    "language_info": {
      "name": "python"
    }
  },
  "cells": [
    {
      "cell_type": "markdown",
      "metadata": {
        "id": "view-in-github",
        "colab_type": "text"
      },
      "source": [
        "<a href=\"https://colab.research.google.com/github/2200090116lokesh/Artificial-Neural-Network/blob/main/Untitled0.ipynb\" target=\"_parent\"><img src=\"https://colab.research.google.com/assets/colab-badge.svg\" alt=\"Open In Colab\"/></a>"
      ]
    },
    {
      "cell_type": "code",
      "source": [
        "a=3\n",
        "b=5\n",
        "a,b=b,a\n",
        "print(a,b)"
      ],
      "metadata": {
        "colab": {
          "base_uri": "https://localhost:8080/"
        },
        "id": "ipP47yO9edYk",
        "outputId": "d6c658f2-aeb1-4324-9de8-1b49b44d10d4"
      },
      "execution_count": null,
      "outputs": [
        {
          "output_type": "stream",
          "name": "stdout",
          "text": [
            "5 3\n"
          ]
        }
      ]
    },
    {
      "cell_type": "code",
      "source": [
        "n=int(input(\"Enter the number\"))\n",
        "if(n>=0):\n",
        "    print(\"positive\")\n",
        "else:\n",
        "      print(\"negtive\")"
      ],
      "metadata": {
        "id": "B1uWZUUqewIq"
      },
      "execution_count": null,
      "outputs": []
    },
    {
      "cell_type": "code",
      "source": [
        "num = int(input(\"Enter a number: \"))\n",
        "factorial = 1\n",
        "if num < 0:\n",
        "   print(\" Factorial does not exist for negative numbers\")\n",
        "elif num == 0:\n",
        "   print(\"The factorial of 0 is 1\")\n",
        "else:\n",
        "   for i in range(1,num + 1):\n",
        "       factorial = factorial*i\n",
        "   print(\"The factorial of\",num,\"is\",factorial)"
      ],
      "metadata": {
        "collapsed": true,
        "id": "MNn3racNg4KV"
      },
      "execution_count": null,
      "outputs": []
    },
    {
      "cell_type": "code",
      "source": [
        "string=input((\"Enter a letter:\"))\n",
        "if(string==string[::-1]):\n",
        "      print(\"The letter is a palindrome\")\n",
        "else:\n",
        "      print(\"The letter is not a palindrome\")"
      ],
      "metadata": {
        "id": "vLRK98asifek"
      },
      "execution_count": null,
      "outputs": []
    },
    {
      "cell_type": "code",
      "source": [
        "import calendar\n",
        "year=int(input(\"Enter the year\"))\n",
        "month=int(input(\"Enter the month\"))\n",
        "print(calendar.month(year,month))"
      ],
      "metadata": {
        "id": "EbdWyPJHmIAa"
      },
      "execution_count": null,
      "outputs": []
    },
    {
      "cell_type": "code",
      "source": [
        "import numpy as np\n",
        "import tensorflow as tf\n",
        "from tensorflow.keras.models import Sequential\n",
        "from tensorflow.keras.layers import Dense\n",
        "from tensorflow.keras.optimizers import Adam\n"
      ],
      "metadata": {
        "id": "JcYOr0cWYJgG"
      },
      "execution_count": null,
      "outputs": []
    },
    {
      "cell_type": "code",
      "source": [
        "x = np.array([[0,0,0],\n",
        "           [0,0,1],\n",
        "           [0,1,0],\n",
        "           [0,1,1],\n",
        "           [1,0,0],\n",
        "           [1,0,1],\n",
        "           [1,1,0],\n",
        "           [1,1,1]])\n",
        "y=np.array([[0],\n",
        "           [0],\n",
        "           [0],\n",
        "           [0],\n",
        "           [0],\n",
        "           [0],\n",
        "           [1]\n",
        "           ])"
      ],
      "metadata": {
        "id": "cJeh-dnAgI3B"
      },
      "execution_count": null,
      "outputs": []
    },
    {
      "cell_type": "code",
      "source": [],
      "metadata": {
        "id": "mjOO8Y4pjDuK"
      },
      "execution_count": null,
      "outputs": []
    },
    {
      "cell_type": "code",
      "source": [
        "model = Sequential(Dense(1,input_dim=3,activation='sigmoid'))\n",
        "model.compile(Adam(lr=0.01),'binary_crossentropy',metrics=['binary_accuracy'])\n"
      ],
      "metadata": {
        "id": "GQXoLgPUiBdK"
      },
      "execution_count": null,
      "outputs": []
    },
    {
      "cell_type": "code",
      "source": [
        "model.fit(x,y,epochs=1000,verbose=0)"
      ],
      "metadata": {
        "id": "F7jsZNgRkDky"
      },
      "execution_count": null,
      "outputs": []
    },
    {
      "cell_type": "code",
      "source": [
        "from typing import Any\n",
        "for i in x:\n",
        "  print(model.predict(np.array[i]))\n",
        "  print(f\"input:{i} - prediction  {int(round(Any.flatten()[0]))}\")\n"
      ],
      "metadata": {
        "id": "kkG-m_DNkdpE"
      },
      "execution_count": null,
      "outputs": []
    }
  ]
}